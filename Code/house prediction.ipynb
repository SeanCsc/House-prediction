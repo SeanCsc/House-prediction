{
  "cells": [
    {
      "metadata": {
        "_cell_guid": "a6106108-9362-40c7-9828-768a7a33d21f",
        "_uuid": "eb4effad5f3b7df1cea3d1ea9fbaafb7de08014f",
        "trusted": false,
        "collapsed": true
      },
      "cell_type": "code",
      "source": "# This Python 3 environment comes with many helpful analytics libraries installed\n# It is defined by the kaggle/python docker image: https://github.com/kaggle/docker-python\n# For example, here's several helpful packages to load in \n\nimport numpy as np # linear algebra\nimport pandas as pd # data processing, CSV file I/O (e.g. pd.read_csv)\n\n# Input data files are available in the \"../input/\" directory.\n# For example, running this (by clicking run or pressing Shift+Enter) will list the files in the input directory\nimport matplotlib.pyplot as plt\n%matplotlib inline\nimport seaborn as sns\nimport warnings\ndef ignore_warn(*args, **kwargs):\n    pass\nwarnings.warn = ignore_warn #ignore annoying warning (from sklearn and seaborn)\n\nimport re\nfrom scipy import stats\nfrom scipy.stats import norm, skew #for some statistics\nfrom sklearn.linear_model import Ridge, RidgeCV, ElasticNet, LassoCV, LassoLarsCV\nfrom sklearn.model_selection import cross_val_score\nfrom subprocess import check_output\nprint(check_output([\"ls\", \"../input\"]).decode(\"utf8\"))\ntrain = pd.read_csv('../input/train.csv')\n# Any results you write to the current directory are saved as output.",
      "execution_count": null,
      "outputs": []
    },
    {
      "metadata": {
        "_cell_guid": "ef97e244-a48e-43f8-a6c0-897c4844879d",
        "collapsed": true,
        "_uuid": "0bce017143ce95d3f0c9e761cfafdddb9e3926ca",
        "trusted": false
      },
      "cell_type": "code",
      "source": "",
      "execution_count": null,
      "outputs": []
    },
    {
      "metadata": {
        "_cell_guid": "4e5b4042-735f-4426-8d25-60697da6e1f4",
        "collapsed": true,
        "_uuid": "a30e1ddcfe6e85283e3faf96f9a62be2a61a4cee",
        "trusted": false
      },
      "cell_type": "code",
      "source": "",
      "execution_count": null,
      "outputs": []
    },
    {
      "metadata": {
        "_cell_guid": "7f29d5f6-bde0-4fb2-abab-31b399f3e2b6",
        "collapsed": true,
        "_uuid": "e1da37f653e531bdfb817e07f276f9fce2943565",
        "trusted": false
      },
      "cell_type": "code",
      "source": "y = train['SalePrice']\nx1 = train.drop(['SalePrice'],axis = 1)\n\nx1 = x1.loc[:,'MSSubClass':'SaleCondition']\nntrain = len(x1)\n",
      "execution_count": null,
      "outputs": []
    },
    {
      "metadata": {
        "_cell_guid": "7eedf95a-2b07-4d57-903f-45c2889d992e",
        "_uuid": "a5bf52f22b44b314b15301b9af452c3040ec9a5b",
        "trusted": false,
        "collapsed": true
      },
      "cell_type": "code",
      "source": "sns.distplot(y,fit = norm)\n# a liltle bit skew\n(mu,sigma) = norm.fit(y)\nfig = plt.figure()\nres = stats.probplot(y,plot = plt)\nplt.show()\n\n",
      "execution_count": null,
      "outputs": []
    },
    {
      "metadata": {
        "_cell_guid": "84ce5c64-161d-43a0-8f8d-decd4410bbdb",
        "_uuid": "1f386978a97b098e3a311cc614b23a3634ffffd1",
        "trusted": false,
        "collapsed": true
      },
      "cell_type": "code",
      "source": "y = np.log1p(y)\nsns.distplot(y,fit = norm)\nnorm.fit(y)",
      "execution_count": null,
      "outputs": []
    },
    {
      "metadata": {
        "_cell_guid": "abd79202-7b7e-48d8-93dd-a5b09904db84",
        "collapsed": true,
        "_uuid": "876953f927a11ac56c2931ffc397daf86f5a4114",
        "trusted": false
      },
      "cell_type": "code",
      "source": "test1 = pd.read_csv('../input/test.csv')\ntest_ID = test1['Id']",
      "execution_count": null,
      "outputs": []
    },
    {
      "metadata": {
        "_cell_guid": "7f899e6a-38fb-40ca-986d-cb2a65f707be",
        "collapsed": true,
        "_uuid": "247daccb161154e04d9db2d46ea682e02a91c4fe",
        "trusted": false
      },
      "cell_type": "code",
      "source": "test1 = pd.read_csv('../input/test.csv')\n#test = pd.get_dummies(test)\n#test = test.fillna(test.mean())\n#test.shape\n\ntest1.head()\nntest = len(test1)\nall_data = pd.concat((x1.loc[:,'MSSubClass':'SaleCondition'],test1.loc[:,'MSSubClass':'SaleCondition']))",
      "execution_count": null,
      "outputs": []
    },
    {
      "metadata": {
        "_cell_guid": "4733accf-9124-4f84-a642-3b03e3e07db3",
        "collapsed": true,
        "_uuid": "0395a0229480d0386b813e7cdffd1cc4484bc7bb",
        "trusted": false
      },
      "cell_type": "code",
      "source": "\nall_data['MiscFeature'] = all_data['MiscFeature'].fillna('None')\nall_data['Fence'] = all_data['Fence'].fillna('None')\nall_data[\"FireplaceQu\"] = all_data[\"FireplaceQu\"].fillna(\"None\")\nall_data[\"LotFrontage\"] = all_data['LotFrontage'].fillna(0)\nall_data['Alley'] = all_data[\"Alley\"].fillna('None')\nfor col in ('GarageType', 'GarageFinish', 'GarageQual', 'GarageCond'):\n    all_data[col] = all_data[col].fillna('None')\nfor col in ('GarageYrBlt', 'GarageArea', 'GarageCars'):\n    all_data[col] = all_data[col].fillna(0)\nfor col in ('BsmtFinSF1', 'BsmtFinSF2', 'BsmtUnfSF','TotalBsmtSF', 'BsmtFullBath', 'BsmtHalfBath'):\n    all_data[col] = all_data[col].fillna(0)\n\nfor col in ('BsmtQual', 'BsmtCond', 'BsmtExposure', 'BsmtFinType1', 'BsmtFinType2'):\n    all_data[col] = all_data[col].fillna('None')\nall_data[\"MasVnrType\"] = all_data[\"MasVnrType\"].fillna(\"None\")\nall_data[\"MasVnrArea\"] = all_data[\"MasVnrArea\"].fillna(0)\nall_data[\"MasVnrType\"] = all_data[\"MasVnrType\"].fillna(\"None\")\nall_data[\"MasVnrArea\"] = all_data[\"MasVnrArea\"].fillna(0)\nall_data['MSZoning'] = all_data['MSZoning'].fillna(all_data['MSZoning'].mode()[0])\n#all_data = all_data.drop(['Utilities'], axis=1)\nall_data[\"Functional\"] = all_data[\"Functional\"].fillna(\"Typ\")\nall_data['Electrical'] = all_data['Electrical'].fillna(all_data['Electrical'].mode()[0])\nall_data['KitchenQual'] = all_data['KitchenQual'].fillna(all_data['KitchenQual'].mode()[0])\nall_data['Exterior1st'] = all_data['Exterior1st'].fillna(all_data['Exterior1st'].mode()[0])\nall_data['Exterior2nd'] = all_data['Exterior2nd'].fillna(all_data['Exterior2nd'].mode()[0])\nall_data['SaleType'] = all_data['SaleType'].fillna(all_data['SaleType'].mode()[0])\nall_data['MSSubClass'] = all_data['MSSubClass'].fillna(\"None\")\n\n#percen = all_data.isnull().sum() / len(all_data)\n#percen.sort_values(ascending= False)",
      "execution_count": null,
      "outputs": []
    },
    {
      "metadata": {
        "_cell_guid": "0f448def-1da1-4dff-bbe6-40b726b91a3d",
        "_kg_hide-input": true,
        "_uuid": "06f2f05fc5627e2f61af495d10042c3101728570",
        "trusted": false,
        "collapsed": true
      },
      "cell_type": "code",
      "source": "all_data['PoolQC'] = all_data['PoolQC'].fillna('None')\n#percen = all_data.isnull().sum() / len(all_data)\n#percen.sort_values(ascending= False)\nall_data.dtypes[all_data.dtypes != \"object\"].index",
      "execution_count": null,
      "outputs": []
    },
    {
      "metadata": {
        "_cell_guid": "8b341c51-22ff-4635-8c9d-20ca96ce99c0",
        "_uuid": "698f8c0e26d4ebe68902eb39919833d6c1d85244",
        "trusted": false,
        "collapsed": true
      },
      "cell_type": "code",
      "source": "all_data['MSSubClass'] = all_data['MSSubClass'].apply(str)\n#Changing OverallCond into a categorical variable\nall_data['OverallCond'] = all_data['OverallCond'].astype(str)\n#Year and month sold are transformed into categorical features.\nall_data['YrSold'] = all_data['YrSold'].astype(str)\nall_data['MoSold'] = all_data['MoSold'].astype(str)\n\nfrom sklearn.preprocessing import LabelEncoder\ncols = ('FireplaceQu', 'BsmtQual', 'BsmtCond', 'GarageQual', 'GarageCond', \n        'ExterQual', 'ExterCond','HeatingQC', 'PoolQC', 'KitchenQual', 'BsmtFinType1', \n        'BsmtFinType2', 'Functional', 'Fence', 'BsmtExposure', 'GarageFinish', 'LandSlope',\n        'LotShape', 'PavedDrive', 'Street', 'Alley', 'CentralAir', 'MSSubClass', 'OverallCond', \n        'YrSold', 'MoSold')\n\n# process columns, apply LabelEncoder to categorical features\nfor c in cols:\n    lbl = LabelEncoder() \n    lbl.fit(list(all_data[c].values)) \n    all_data[c] = lbl.transform(list(all_data[c].values))\n\n# shape        \nprint('Shape all_data: {}'.format(all_data.shape))\nall_data['TotalSF'] = all_data['TotalBsmtSF'] + all_data['1stFlrSF'] + all_data['2ndFlrSF']\nnumeric_features = all_data.dtypes[all_data.dtypes != \"object\"].index\nall_data[numeric_features].apply(lambda x: skew(x.dropna())).sort_values(ascending=False)\nprint(\"\\nSkew in numerical features: \\n\")\nskewness = pd.DataFrame({'Skew' :all_data[numeric_features].apply(lambda x: skew(x.dropna())).sort_values(ascending=False)\n})\n\nskewness.head(5)\n",
      "execution_count": null,
      "outputs": []
    },
    {
      "metadata": {
        "_cell_guid": "33233038-30d6-4983-a6f2-851f2dc2fc4a",
        "_uuid": "b0eaa9613e70eacb0b64b47b007d66fea25280ec",
        "trusted": false,
        "collapsed": true
      },
      "cell_type": "code",
      "source": "skewness = skewness[abs(skewness) > 0.75]\nprint(\"There are {} skewed numerical features to Box Cox transform\".format(skewness.shape[0]))\n\nfrom scipy.special import boxcox1p\nskewed_features = skewness.index\nlam = 0.15\nfor feat in skewed_features:\n    all_data[feat] = boxcox1p(all_data[feat], lam)\n",
      "execution_count": null,
      "outputs": []
    },
    {
      "metadata": {
        "_cell_guid": "2a44818f-0a4f-49a0-b21f-1ff81e3bf9b3",
        "_uuid": "3c9555d06de82758db27c217d2061a92bcf1731d",
        "trusted": false,
        "collapsed": true
      },
      "cell_type": "code",
      "source": "all_data = pd.get_dummies(all_data)\nall_data.shape\ntrain_f = all_data[:ntrain]\ntest_f = all_data[ntrain:]\ntrain_f.isnull().sum()",
      "execution_count": null,
      "outputs": []
    },
    {
      "metadata": {
        "_cell_guid": "63849620-4389-4ab8-a934-87d431de9442",
        "collapsed": true,
        "_uuid": "e601e281e45198a43b654517554a366d98f5dc1d",
        "trusted": false
      },
      "cell_type": "code",
      "source": "from sklearn.model_selection import KFold\n\nn_folds = 5\ndef rmsle_cv(model):\n    kf = KFold(n_folds, shuffle=True, random_state=42).get_n_splits(train.values)\n    rmse= np.sqrt(-cross_val_score(model, train_f, y, scoring=\"neg_mean_squared_error\", cv = kf))\n    return(rmse)",
      "execution_count": null,
      "outputs": []
    },
    {
      "metadata": {
        "_cell_guid": "88bace97-643d-471c-9caf-9a7eb2b7f2e1",
        "collapsed": true,
        "_uuid": "1c98a5d2fe6b7dfc4d94067f43f46879d06885d7",
        "trusted": false
      },
      "cell_type": "code",
      "source": "#basic model in sklearn\nfrom sklearn.pipeline import make_pipeline\nfrom sklearn.preprocessing import RobustScaler\nfrom sklearn.linear_model import LassoCV, Lasso, ElasticNet\nfrom sklearn.kernel_ridge import KernelRidge\nfrom xgboost import XGBRegressor\nfrom sklearn import cross_validation,metrics\nfrom sklearn.grid_search import GridSearchCV\nfrom sklearn.ensemble import GradientBoostingRegressor\nfrom lightgbm import LGBMRegressor\nLasso = make_pipeline(RobustScaler(),LassoCV(alphas = [1, 0.1, 0.001, 0.0005], random_state = 1))\nEnet = make_pipeline(RobustScaler(), ElasticNet(alpha = 0.0005, l1_ratio = 0.9,random_state = 3))\nKridge = KernelRidge(alpha=0.6, kernel='polynomial', degree=2, coef0=2.5)\nmodel_xgb = XGBRegressor(base_score = 0.5,colsample_bylevel = 0.7, colsample_bytree =0.75,\n                    max_depth = 5,\n                    min_child_weight = 6,\n                   gamma = 0,\n                   learning_rate = 0.1,\n                   max_delta_step = 0,\n                   missing = None,\n                   n_estimator = 200,\n                   nthread = -1,\n                   objective = 'reg:linear',\n                   reg_alpha = 100,\n                   reg_lambda = 0.8,\n                   scale_pos_weight = 1,\n                   silent = True,\n                   subsample = 1)\nGBoost = GradientBoostingRegressor(n_estimators=3000, learning_rate=0.05,\n                                   max_depth=4, max_features='sqrt',\n                                   min_samples_leaf=15, min_samples_split=10, \n                                   loss='huber', random_state =5)\nLgbm = LGBMRegressor(objective='regression',num_leaves=5,\n                              learning_rate=0.05, n_estimators=720,\n                              max_bin = 55, bagging_fraction = 0.8,\n                              bagging_freq = 5, feature_fraction = 0.2319,\n                              feature_fraction_seed=9, bagging_seed=9,\n                              min_data_in_leaf =6, min_sum_hessian_in_leaf = 11)",
      "execution_count": null,
      "outputs": []
    },
    {
      "metadata": {
        "_cell_guid": "f0d8a5f4-9021-4b4c-a3cc-9b7fd81f1b09",
        "_uuid": "5b2d6071423e302374cfcc6ab13dc50169f4ae0d",
        "trusted": false,
        "collapsed": true
      },
      "cell_type": "code",
      "source": "score =rmsle_cv(Lasso)\nprint (\"Lasso:{}\".format(score))\nscore =rmsle_cv(Enet)\nprint (\"Enet:{}\".format(score))\nscore =rmsle_cv(Kridge)\nprint (\"Kridge:{}\".format(score))\n#score =rmsle_cv(xgb)\nprint (\"xgb:{}\".format(score))\n#score =rmsle_cv(GBoost)\nprint (\"Gboost:{}\".format(score))\n#score =rmsle_cv(Lgbm)\nprint (\"Lgbm:{}\".format(score))",
      "execution_count": null,
      "outputs": []
    },
    {
      "metadata": {
        "_cell_guid": "789323e4-2121-44c2-8c1b-86ae7241b952",
        "collapsed": true,
        "_uuid": "66356aa4fc79fef2e5fd45baabe8cbc4d08237a5",
        "trusted": false
      },
      "cell_type": "code",
      "source": "from sklearn.base import BaseEstimator, TransformerMixin, RegressorMixin, clone\nfrom sklearn.model_selection import KFold, cross_val_score, train_test_split",
      "execution_count": null,
      "outputs": []
    },
    {
      "metadata": {
        "_cell_guid": "a11d370a-7dc7-46af-ae0b-e7720f50add0",
        "collapsed": true,
        "_uuid": "be8a8819e347652e500d94e98600f54460491dc9",
        "trusted": false
      },
      "cell_type": "code",
      "source": "class AveragingModels(BaseEstimator,RegressorMixin, TransformerMixin):\n    def __init__(self,models):\n        self.models = models\n    def fit(self,x,y):\n        self.models_ = [clone(x) for x in self.models]\n        \n        for model in self.models_:\n            model.fit(x,y)\n        return self\n\n    def predict(self, x):\n        predictions = np.column_stack([\n            model.predict(x) for model in self.models_\n        ])\n        return np.mean(predictions,axis = 1)\n    ",
      "execution_count": null,
      "outputs": []
    },
    {
      "metadata": {
        "_cell_guid": "8a1939f3-0036-4303-b4fe-fa7476fe7334",
        "_uuid": "11d234b46e3951cfc776142cabcbcac73c9e0a7a",
        "trusted": false,
        "collapsed": true
      },
      "cell_type": "code",
      "source": "averaged_models = AveragingModels(models = (Enet, GBoost, Kridge, Lasso))\nscore = rmsle_cv(averaged_models)\nprint(\" Averaged base models score: {:.4f} ({:.4f})\\n\".format(score.mean(), score.std()))\n",
      "execution_count": null,
      "outputs": []
    },
    {
      "metadata": {
        "_cell_guid": "ef96ae5f-6f99-434f-8750-b47fc096b72f",
        "collapsed": true,
        "_uuid": "01d03f659609144292fe8cb48a634a46fd21d098",
        "trusted": false
      },
      "cell_type": "code",
      "source": "class StackingAveragedModels(BaseEstimator, RegressorMixin, TransformerMixin):\n    def __init__(self, base_models, meta_model, n_folds=5):\n        self.base_models = base_models\n        self.meta_model = meta_model\n        self.n_folds = n_folds\n   \n    def fit(self, X, y):\n        self.base_models_ = [list() for x in self.base_models]\n        self.meta_model_ = clone(self.meta_model)\n        kfold = KFold(n_splits=self.n_folds, shuffle=True, random_state=156)\n        \n        # Train cloned base models then create out-of-fold predictions\n        # that are needed to train the cloned meta-model\n        out_of_fold_predictions = np.zeros((X.shape[0], len(self.base_models)))\n        for i, model in enumerate(self.base_models):\n            for train_index, holdout_index in kfold.split(X, y):\n                instance = clone(model)\n                self.base_models_[i].append(instance)\n                instance.fit(X[train_index], y[train_index])\n                y_pred = instance.predict(X[holdout_index])\n                out_of_fold_predictions[holdout_index, i] = y_pred\n                \n        # Now train the cloned  meta-model using the out-of-fold predictions as new feature\n        self.meta_model_.fit(out_of_fold_predictions, y)\n        return self\n   #Do the predictions of all base models on the test data and use the averaged predictions as \n    #meta-features for the final prediction which is done by the meta-model\n    def predict(self, X):\n        meta_features = np.column_stack([\n            np.column_stack([model.predict(X) for model in base_models]).mean(axis=1)\n            for base_models in self.base_models_ ])\n        return self.meta_model_.predict(meta_features)",
      "execution_count": null,
      "outputs": []
    },
    {
      "metadata": {
        "_cell_guid": "ddba7ccc-8f71-48b0-96fa-f9be3f26ab93",
        "_uuid": "f9bac19f2ba10cbd54432ba5d823b80b4094ab01",
        "trusted": false,
        "collapsed": true
      },
      "cell_type": "code",
      "source": "stacked_averaged_models = StackingAveragedModels(base_models = (Enet, GBoost, Kridge),meta_model = Lasso)\nscore = rmsle_cv(stacked_averaged_models)\n",
      "execution_count": null,
      "outputs": []
    },
    {
      "metadata": {
        "_cell_guid": "3e5819e9-f283-4433-8c99-adaa1d57aaf7",
        "collapsed": true,
        "_uuid": "6fe9afacdbbba96baaacf66ed274ee0fcc5699ac",
        "trusted": false
      },
      "cell_type": "code",
      "source": "def rmsle(y, y_pred):\n    return np.sqrt(mean_squared_error(y, y_pred))",
      "execution_count": null,
      "outputs": []
    },
    {
      "metadata": {
        "_cell_guid": "5ef58261-d447-48b5-884c-e6629f9190cd",
        "collapsed": true,
        "_uuid": "16968ebf4a77650eb6651a45a56c0a6cf3dad08c",
        "trusted": false
      },
      "cell_type": "code",
      "source": "from sklearn.linear_model import ElasticNet, Lasso,  BayesianRidge, LassoLarsIC\nfrom sklearn.ensemble import RandomForestRegressor,  GradientBoostingRegressor\nfrom sklearn.kernel_ridge import KernelRidge\nfrom sklearn.pipeline import make_pipeline\nfrom sklearn.preprocessing import RobustScaler\nfrom sklearn.base import BaseEstimator, TransformerMixin, RegressorMixin, clone\nfrom sklearn.model_selection import KFold, cross_val_score, train_test_split\nfrom sklearn.metrics import mean_squared_error\nimport xgboost as xgb\nimport lightgbm as lgb",
      "execution_count": null,
      "outputs": []
    },
    {
      "metadata": {
        "_cell_guid": "3d97ceb4-071f-4403-8e9f-23edd0144c34",
        "collapsed": true,
        "_uuid": "6aac2c09ec4a34404f963f496351b2444265e2b5",
        "trusted": false
      },
      "cell_type": "code",
      "source": "stacked_averaged_models.fit(train_f.values, y)\nstacked_train_pred = stacked_averaged_models.predict(train_f)\nstacked_pred = np.expm1(stacked_averaged_models.predict(test_f))\nprint(rmsle(y, stacked_train_pred))",
      "execution_count": null,
      "outputs": []
    },
    {
      "metadata": {
        "_cell_guid": "52f06703-33ac-4a52-94ac-c9ad0d527176",
        "collapsed": true,
        "_uuid": "2628f481f5c25c298583c4ca10bee32ee85ecf82",
        "trusted": false
      },
      "cell_type": "code",
      "source": "model_xgb.fit(train_f,y)\nxgb_train_pred = model_xgb.predict(train_f)\nxgb_pred = np.expm1(model_xgb.predict(test_f))\nprint(rmsle(y, xgb_train_pred))",
      "execution_count": null,
      "outputs": []
    },
    {
      "metadata": {
        "_cell_guid": "f18774c6-60c8-4fb1-88b1-269d0d64dd44",
        "collapsed": true,
        "_uuid": "4d96246ee990e920f0fd97102f8208bcd52b436c",
        "trusted": false
      },
      "cell_type": "code",
      "source": "Lgbm.fit(train_f,y)\nLgmb_train_pred = Lgbm.predict(train_f)\nLgbm_pred = np.expm1(Lgbm.predict(test_f.values))\nprint(rmsle(y,Lgbm_train_pred))",
      "execution_count": null,
      "outputs": []
    },
    {
      "metadata": {
        "_cell_guid": "af8c1269-f58a-45cb-adbf-fcba52c835f4",
        "collapsed": true,
        "_uuid": "7b274f955edd068421b86272bd5f4217f08ea32f",
        "trusted": false
      },
      "cell_type": "code",
      "source": "ensemble = stacked_pred*0.9 + xgb_pred*0.1\nsub = pd.DataFrame()\nsub['Id'] = test_ID\nsub['SalePrice'] = ensemble\nsub.to_csv('submission_stacked.csv',index=False)",
      "execution_count": null,
      "outputs": []
    },
    {
      "metadata": {
        "_cell_guid": "b6e34928-e3eb-40f5-b631-bd1a32bdf03b",
        "_uuid": "83f5e7ba82f0c26bebb6804709d671a615202cd5"
      },
      "cell_type": "markdown",
      "source": "-----------End-----------\nBelow are the process to choose hyperparameter for xgb"
    },
    {
      "metadata": {
        "_cell_guid": "fc4c4c0f-f9d5-4b2a-96ee-cfecbb156c9e",
        "collapsed": true,
        "_uuid": "bccb9b88d1c4254094bf8a1b1151045ea7e1d5d5",
        "trusted": false
      },
      "cell_type": "code",
      "source": "\n#first try on xgboost\nimport xgboost as xgb\nfrom pandas import DataFrame\n\nbst =xgb.XGBRegressor()\nbst.fit(x,y,verbose = True)\npreds = bst.predict(test)\n",
      "execution_count": null,
      "outputs": []
    },
    {
      "metadata": {
        "_cell_guid": "5ab8c22d-4da1-47f8-a46c-632c67e3a6c3",
        "collapsed": true,
        "_uuid": "5fc5bd002d38bc4d1ae0c47aac95dd675f108ef1",
        "trusted": false
      },
      "cell_type": "code",
      "source": "from sklearn import metrics\npreds_train = bst.predict(x)\nmetrics.r2_score(y.values,preds_train)",
      "execution_count": null,
      "outputs": []
    },
    {
      "metadata": {
        "_cell_guid": "6bfed598-62a8-4799-bb12-b125cbfd47bc",
        "collapsed": true,
        "_uuid": "d631294daa08cb4228e659c703399e618853ed47",
        "trusted": false
      },
      "cell_type": "code",
      "source": "#tune the hyperparameters\nfrom xgboost import XGBRegressor\nfrom sklearn import cross_validation,metrics\nfrom sklearn.grid_search import GridSearchCV\nxgb3 = XGBRegressor(base_score = 0.5,colsample_bylevel = 0.7, colsample_bytree =0.75,\n                    max_depth = 5,\n                    min_child_weight = 6,\n                   gamma = 0,\n                   learning_rate = 0.1,\n                   max_delta_step = 0,\n                   missing = None,\n                   n_estimator = 200,\n                   nthread = -1,\n                   objective = 'reg:linear',\n                   reg_alpha = 100,\n                   reg_lambda = 0.8,\n                   scale_pos_weight = 1,\n                   silent = True,\n                   subsample = 1)",
      "execution_count": null,
      "outputs": []
    },
    {
      "metadata": {
        "_cell_guid": "408de2d5-8399-48ad-b7be-d3872c72a6b9",
        "collapsed": true,
        "_uuid": "02224fc9e046bf838ca041767dbb424206b6fcb5",
        "trusted": false
      },
      "cell_type": "code",
      "source": "#define the valuation\ndef modelfit(alg,x,y,useTrainCV = True, cv_folds = 5,early_stopping_rounds = 100):\n    alg.fit(x,y,eval_metric = 'rmse')\n    train_pred = alg.predict(x)\n    print (\"\\n for this model\")\n    print (metrics.r2_score(y,train_pred))\n",
      "execution_count": null,
      "outputs": []
    },
    {
      "metadata": {
        "_cell_guid": "b3dc150f-c7f0-4f10-8cd9-5e8b9dffcbc3",
        "collapsed": true,
        "_uuid": "028e5cd1a53be6909eb51601b0c61134a38af73b",
        "trusted": false
      },
      "cell_type": "code",
      "source": "#parameters setting\nxgb1 = XGBRegressor(base_score = 0.5,colsample_bylevel = 1, colsample_bytree = 1,\n                   gamma = 0,\n                   learning_rate = 0.1,\n                   max_delta_step = 0,\n                   max_depth = 3,\n                   min_child_weight = 1,\n                   missing = None,\n                   n_estimator = 100,\n                   nthread = -1,\n                   objective = 'reg:linear',\n                   reg_alpha = 0,\n                   reg_lambda = 1,\n                   scale_pos_weight = 1,\n                   silent = True,\n                   subsample = 1)\nmodelfit(xgb1,x,y)",
      "execution_count": null,
      "outputs": []
    },
    {
      "metadata": {
        "_cell_guid": "df7be510-77a7-4a2f-952b-05a12bad274e",
        "collapsed": true,
        "_uuid": "7d5b89458d7b5e1a8b028f90cb43fd5f3edc914a",
        "trusted": false
      },
      "cell_type": "code",
      "source": "#use GridSearchCV to find better model\nparam_test1 = {\n    'max_depth':[3,5,7,9],\n    'min_child_weight':[2,4,6,8]\n}\n\ngsearch1 = GridSearchCV(estimator = XGBRegressor(base_score = 0.5,\n                                                 colsample_bylevel = 1, \n                                                 colsample_bytree = 1,\n                                                 gamma = 0,\n                                                 learning_rate = 0.1,\n                                                max_delta_step = 0,\n                   missing = None,\n                   n_estimator = 100,\n                   nthread = -1,\n                   objective = 'reg:linear',\n                   reg_alpha = 0,\n                   reg_lambda = 1,\n                   scale_pos_weight = 1,\n                   silent = True,\n                   subsample = 1),\n                   param_grid = param_test1, scoring = 'r2',cv = 5)\ngsearch1.fit(x,y)\n                ",
      "execution_count": null,
      "outputs": []
    },
    {
      "metadata": {
        "_cell_guid": "ac515921-63db-4d68-9bc6-21ff741930b7",
        "collapsed": true,
        "_uuid": "5867d8c000c632c79ec9eb925dd2f453d2dd1203",
        "trusted": false
      },
      "cell_type": "code",
      "source": "gsearch1.grid_scores_,gsearch1.best_params_,gsearch1.best_score_",
      "execution_count": null,
      "outputs": []
    },
    {
      "metadata": {
        "_cell_guid": "e385e373-d97c-44fb-b551-f97d40882830",
        "collapsed": true,
        "_uuid": "f9aecfced0833750a04d57b69d08401f2e12021e",
        "trusted": false
      },
      "cell_type": "code",
      "source": "param_test2 = {\n    'max_depth':[6,7,8],\n    'min_child_weight':[3,4,5]\n}\n\ngsearch2 = GridSearchCV(estimator = XGBRegressor(base_score = 0.5,\n                                                 colsample_bylevel = 1, \n                                                 colsample_bytree = 1,\n                                                 gamma = 0,\n                                                 learning_rate = 0.1,\n                                                max_delta_step = 0,\n                   missing = None,\n                   n_estimator = 100,\n                   nthread = -1,\n                   objective = 'reg:linear',\n                   reg_alpha = 0,\n                   reg_lambda = 1,\n                   scale_pos_weight = 1,\n                   silent = True,\n                   subsample = 1),\n                   param_grid = param_test2, scoring = 'r2',cv = 5)\ngsearch2.fit(x,y)",
      "execution_count": null,
      "outputs": []
    },
    {
      "metadata": {
        "_cell_guid": "14fa85d0-77ba-4b1a-9667-aab542751470",
        "collapsed": true,
        "_uuid": "95e34d3e69280e47a5d0626d4b78645b95e37767",
        "trusted": false
      },
      "cell_type": "code",
      "source": "gsearch2.grid_scores_,gsearch2.best_params_,gsearch2.best_score_",
      "execution_count": null,
      "outputs": []
    },
    {
      "metadata": {
        "_cell_guid": "5bcfc607-5503-4625-a5e7-d576a6de3e11",
        "collapsed": true,
        "_uuid": "506569534d51f1d29d1d9519ad6984bff4863a1c",
        "trusted": false
      },
      "cell_type": "code",
      "source": "#parameters setting\nxgb2 = XGBRegressor(base_score = 0.5,colsample_bylevel = 0.7, colsample_bytree =0.75,\n                    max_depth = 8,\n                    min_child_weight = 3,\n                   gamma = 0,\n                   learning_rate = 0.1,\n                   max_delta_step = 0,\n                   missing = None,\n                   n_estimator = 100,\n                   nthread = 1,\n                   objective = 'reg:linear',\n                   reg_alpha = 0,\n                   reg_lambda = 1,\n                   scale_pos_weight = 1,\n                   silent = True,\n                   subsample = 1)\nmodelfit(xgb2,x,y)",
      "execution_count": null,
      "outputs": []
    },
    {
      "metadata": {
        "_cell_guid": "518bf5b0-b487-403e-86fd-cd5dbf483917",
        "collapsed": true,
        "_uuid": "efaf5981215fb0579f149a742813c3039c388ab6",
        "trusted": false
      },
      "cell_type": "code",
      "source": "#parameters setting\nxgb3 = XGBRegressor(base_score = 0.5,colsample_bylevel = 0.7, colsample_bytree =0.75,\n                    max_depth = 5,\n                    min_child_weight = 6,\n                   gamma = 0,\n                   learning_rate = 0.1,\n                   max_delta_step = 0,\n                   missing = None,\n                   n_estimator = 200,\n                   nthread = -1,\n                   objective = 'reg:linear',\n                   reg_alpha = 100,\n                   reg_lambda = 0.8,\n                   scale_pos_weight = 1,\n                   silent = True,\n                   subsample = 1)\nmodelfit(xgb3,x,y)\nxgb3.fit(x,y)",
      "execution_count": null,
      "outputs": []
    },
    {
      "metadata": {
        "_cell_guid": "a536002b-0f10-4068-b28d-c52aea9afdb1",
        "collapsed": true,
        "_uuid": "2b098c64cc5b7a493cf0a5f75d33cc70e2777568",
        "trusted": false
      },
      "cell_type": "code",
      "source": "xgb_preds = xgb3.predict(test)\n#test1.Id.shape\n#test.shape\n#solution = pd.DataFrame({\"id\":test1.Id, \"SalePrice\":preds})\n#solution.to_csv(\"ridge_sol.csv\", index = False)",
      "execution_count": null,
      "outputs": []
    },
    {
      "metadata": {
        "_cell_guid": "b538d55e-7d29-4715-b012-4bba31bea93f",
        "collapsed": true,
        "_uuid": "368a855c83301c9c2db1aaf3682ff34f6067c120",
        "trusted": false
      },
      "cell_type": "code",
      "source": "#Version2 LR",
      "execution_count": null,
      "outputs": []
    },
    {
      "metadata": {
        "_cell_guid": "f5541638-49f7-4757-8fa0-99381773e9cd",
        "collapsed": true,
        "_uuid": "9ba64bb072fecdd841a59b86078ecb8b333f6883",
        "trusted": false
      },
      "cell_type": "code",
      "source": "\n\ndef rmse_cv(model):\n    rmse= np.sqrt(-cross_val_score(model, x, y, scoring=\"neg_mean_squared_error\", cv = 5))\n    return(rmse)",
      "execution_count": null,
      "outputs": []
    },
    {
      "metadata": {
        "_cell_guid": "52fb8752-6e31-48f1-997f-1bfac32eec72",
        "collapsed": true,
        "_uuid": "d52bf92d2fa1eab75ea9d98c616da10e14131849",
        "trusted": false
      },
      "cell_type": "code",
      "source": "model_ridge = Ridge()",
      "execution_count": null,
      "outputs": []
    },
    {
      "metadata": {
        "_cell_guid": "fa319f33-417d-4586-98cb-b8c8cedad111",
        "collapsed": true,
        "_uuid": "f601ae45d030d5968a818332faa6dcbb43562ad0",
        "trusted": false
      },
      "cell_type": "code",
      "source": "#search for the best regularization parameter\nalphas = [0.05, 0.1, 0.3, 1, 3, 5, 10, 15, 30, 50, 75]\ncv_ridge = [rmse_cv(Ridge(alpha = alpha)).mean() for alpha in alphas]\nimport matplotlib.pyplot as plt\n\n\n\n%config InlineBackend.figure_format = 'retina' #set 'png' here when working on notebook\n%matplotlib inline",
      "execution_count": null,
      "outputs": []
    },
    {
      "metadata": {
        "_cell_guid": "97e83e90-6a3a-4a1f-98b4-289a82080fd9",
        "collapsed": true,
        "_uuid": "54993e89454fd282f3b1a0d0ec9c40594c730fa3",
        "trusted": false
      },
      "cell_type": "code",
      "source": "cv_ridge = pd.Series(cv_ridge,index = alphas)\ncv_ridge.plot(title = 'Validation')\nplt.xlabel('alpha')\nplt.ylabel('rmse')\ncv_ridge.min()",
      "execution_count": null,
      "outputs": []
    },
    {
      "metadata": {
        "_cell_guid": "b0c80570-35ae-47d1-91e1-ddd4500fe0b9",
        "collapsed": true,
        "_uuid": "9f6ff8d6352dbb5a00cb5d0caf14629a6c8f7709",
        "trusted": false
      },
      "cell_type": "code",
      "source": "#Lasso\n#lasso = make_pipeline(RobustScaler(),LassoCV(alphas = [1, 0.1, 0.001, 0.0005], random_state = 1)\n###model_lasso = make_pipeline(RobustScaler(),LassoCV(alphas = [1, 0.1, 0.001, 0.0005], random_state = 1).fit(x, y)\n#rmse_cv(model_lasso).mean()",
      "execution_count": null,
      "outputs": []
    },
    {
      "metadata": {
        "_cell_guid": "523c9f76-87e7-44cd-a4bd-b3d14dcee431",
        "collapsed": true,
        "_uuid": "42c079ac5f51d88c8ceb5517c93820369396a711",
        "trusted": false
      },
      "cell_type": "code",
      "source": "#coef = pd.Series(model_lasso.coef_, index = x.columns)\n#print(\"Lasso picked \" + str(sum(coef != 0)) + \" variables and eliminated the other \" +  str(sum(coef == 0)) + \" variables\")",
      "execution_count": null,
      "outputs": []
    },
    {
      "metadata": {
        "_cell_guid": "ec95379d-d51e-4d66-b04e-7e1933017530",
        "collapsed": true,
        "_uuid": "340ea220cb080a6d9fb94a3f722afceee28c78d3",
        "trusted": false
      },
      "cell_type": "code",
      "source": "#imp_coef = pd.concat([coef.sort_values().head(10),\n#                     coef.sort_values().tail(10)])\n#imp_coef",
      "execution_count": null,
      "outputs": []
    },
    {
      "metadata": {
        "_cell_guid": "b63ea0cf-8bf9-4cd6-9ea8-7e14742ab927",
        "collapsed": true,
        "_uuid": "90fa1f2ed45a3a59dbc211f44a3d08f530041fcd",
        "trusted": false
      },
      "cell_type": "code",
      "source": "#matplotlib.rcParams['figure.figsize'] = (8.0, 10.0)\n#imp_coef.plot(kind = \"barh\")\n#plt.title(\"Coefficients in the Lasso Model\")",
      "execution_count": null,
      "outputs": []
    },
    {
      "metadata": {
        "_cell_guid": "cbd0e9b5-c926-4761-b032-3d22ad8c8222",
        "collapsed": true,
        "_uuid": "87394bbc205be64bfa794cc153150f55a2e9cb9b",
        "trusted": false
      },
      "cell_type": "code",
      "source": "#matplotlib.rcParams['figure.figsize'] = (6.0, 6.0)\n\n#preds = pd.DataFrame({\"preds\":model_lasso.predict(x), \"true\":y})\n#preds[\"residuals\"] = preds[\"true\"] - preds[\"preds\"]\n#preds.plot(x = \"preds\", y = \"residuals\",kind = \"scatter\")",
      "execution_count": null,
      "outputs": []
    },
    {
      "metadata": {
        "_cell_guid": "f31bf9f6-6acc-4ee2-ae2c-29c7e4920f10",
        "collapsed": true,
        "_uuid": "a51f0cc30da9c862631fd464fc9b88f73e2877a8",
        "trusted": false
      },
      "cell_type": "code",
      "source": "#lr_preds = model_lasso.predict(test)\n#preds = 0.7*lr_preds + 0.3*xgb_preds\n#pred_train = 0.3* model_lasso.predict(x) + 0.7* xgb3.predict(x)\n#metrics.r2_score(y,pred_train)",
      "execution_count": null,
      "outputs": []
    },
    {
      "metadata": {
        "_cell_guid": "30dcea2f-ac21-49cc-9fd1-e13a1833c24f",
        "collapsed": true,
        "_uuid": "18741bcbc5273814435d1c76bc8d158a499e215e",
        "trusted": false
      },
      "cell_type": "code",
      "source": "#solution = pd.DataFrame({\"id\":test1.Id, \"SalePrice\":preds})\n#solution.to_csv(\"ridge_sol.csv\", index = False)",
      "execution_count": null,
      "outputs": []
    },
    {
      "metadata": {
        "_cell_guid": "47983396-38ad-4d18-9782-a75cf810ecbf",
        "collapsed": true,
        "_uuid": "dd1f0014686ec635eb33884e6d45528d384bf9b7",
        "trusted": false
      },
      "cell_type": "code",
      "source": "#V3 add neural network\n\n#from keras.layers import Dense\n#from keras.models import Sequential\n#from keras.regularizers import l1\n#from sklearn.preprocessing import StandardScaler\n#from sklearn.model_selection import train_test_split",
      "execution_count": null,
      "outputs": []
    },
    {
      "metadata": {
        "_cell_guid": "a7fe362f-b54e-4c13-8f76-44bc0df3c9ef",
        "collapsed": true,
        "_uuid": "eee835e375d9269159a702be649737e0d8f3fbda",
        "trusted": false
      },
      "cell_type": "code",
      "source": "#x_nn = StandardScaler().fit_transform(x)\n#x_tr,x_val,y_tr,y_val = train_test_split(x_nn,y,random_state =3 )\n",
      "execution_count": null,
      "outputs": []
    },
    {
      "metadata": {
        "_cell_guid": "3a8092d0-f9b4-4671-b670-d4f4c6813c12",
        "collapsed": true,
        "_uuid": "e39916417cc2fd57815a6a2e128c2ccd7f5ce00f",
        "trusted": false
      },
      "cell_type": "code",
      "source": "#model = Sequential()\n#model.add(Dense(1,input_dim = x.shape[1], W_regularizer=l1(0.001)))\n\n#model.compile(loss = 'mse',optimizer = 'adam')",
      "execution_count": null,
      "outputs": []
    },
    {
      "metadata": {
        "_cell_guid": "dd5fd4ba-d19e-4d61-9ca6-aa97e180c2b0",
        "collapsed": true,
        "_uuid": "a81d75c0a916dc91a900b48acc985c9abae820ae",
        "trusted": false
      },
      "cell_type": "code",
      "source": "#hist = model.fit(x_tr,y_tr,validation_data = (x_val,y_val))",
      "execution_count": null,
      "outputs": []
    },
    {
      "metadata": {
        "_cell_guid": "a271eb5f-9b1b-4ab6-9bbf-13087d73ac85",
        "collapsed": true,
        "_uuid": "90ec3d4848e54280275ee62162716780a728a600",
        "trusted": false
      },
      "cell_type": "code",
      "source": "#nn_preds = model.predict(x_nn)",
      "execution_count": null,
      "outputs": []
    },
    {
      "metadata": {
        "_cell_guid": "f073756c-e026-416b-aea7-3e2cfcd2312b",
        "collapsed": true,
        "_uuid": "2cdc22698ba502ba18e9a4d1484d5f794ca1f21a",
        "trusted": false
      },
      "cell_type": "code",
      "source": "#pd.Series(model.predict(x_nn)[:,0])",
      "execution_count": null,
      "outputs": []
    },
    {
      "metadata": {
        "_cell_guid": "4ae86fb2-51a9-486d-a564-9f9b0bc3a3f2",
        "collapsed": true,
        "_uuid": "e0a63fdaa9f88e5eafba24e486d1813911e8c0b0",
        "trusted": false
      },
      "cell_type": "code",
      "source": "#pred_train = 0.1* model_lasso.predict(x) + 0.8* xgb3.predict(x) + 0.1 * pd.Series(model.predict(x_nn)[:,0])\n#metrics.r2_score(y,pred_train)\n",
      "execution_count": null,
      "outputs": []
    },
    {
      "metadata": {
        "_cell_guid": "83489d67-cec0-409b-a979-712198e35d21",
        "collapsed": true,
        "_uuid": "93484a7cfeab6463e39060520fd2079ba26f0317",
        "trusted": false
      },
      "cell_type": "code",
      "source": "#preds = 0.1* model_lasso.predict(test) + 0.8* xgb3.predict(test) + 0.1 * pd.Series(model.predict(test)[:,0])",
      "execution_count": null,
      "outputs": []
    },
    {
      "metadata": {
        "_cell_guid": "1bc171b4-1190-4bee-95dc-e24dcf2e57ea",
        "collapsed": true,
        "_uuid": "cba855b2a2f18de117c35eb81bdaf5de181e0a60",
        "trusted": false
      },
      "cell_type": "code",
      "source": "#solution = pd.DataFrame({\"id\":test1.Id, \"SalePrice\":preds})\n#solution.to_csv(\"ridge_sol.csv\", index = False)",
      "execution_count": null,
      "outputs": []
    },
    {
      "metadata": {
        "_cell_guid": "4f94ce46-8c35-41cd-82b5-a261377008d2",
        "collapsed": true,
        "_uuid": "0703fa8a36b58a77118decd7926b350873344824",
        "trusted": false
      },
      "cell_type": "code",
      "source": "#The third combination worked worse than the second version",
      "execution_count": null,
      "outputs": []
    },
    {
      "metadata": {
        "_cell_guid": "48c3cf07-1a79-4681-8ca5-e673dd9ddf95",
        "collapsed": true,
        "_uuid": "0f48f9047ca159a3e28d4e3aed493566473c38c5",
        "trusted": false
      },
      "cell_type": "code",
      "source": "",
      "execution_count": null,
      "outputs": []
    }
  ],
  "metadata": {
    "language_info": {
      "nbconvert_exporter": "python",
      "version": "3.6.4",
      "codemirror_mode": {
        "version": 3,
        "name": "ipython"
      },
      "pygments_lexer": "ipython3",
      "name": "python",
      "mimetype": "text/x-python",
      "file_extension": ".py"
    },
    "kernelspec": {
      "display_name": "Python 3",
      "language": "python",
      "name": "python3"
    }
  },
  "nbformat": 4,
  "nbformat_minor": 1
}